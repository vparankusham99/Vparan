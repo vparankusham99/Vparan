{
 "cells": [
  {
   "cell_type": "code",
   "execution_count": 1,
   "id": "a06e1810",
   "metadata": {},
   "outputs": [],
   "source": [
    "import pandas as pd\n",
    "import numpy as np\n",
    "import matplotlib.pyplot as plt\n",
    "\n",
    "import seaborn as sns\n",
    "import scipy.stats as stats"
   ]
  },
  {
   "cell_type": "code",
   "execution_count": 2,
   "id": "c51d101b",
   "metadata": {
    "scrolled": true
   },
   "outputs": [],
   "source": [
    "sales = pd.read_csv(r\"C:\\Users\\Muralidhar\\BuyerRatio.csv\")\n"
   ]
  },
  {
   "cell_type": "code",
   "execution_count": 3,
   "id": "d8b2e3a8",
   "metadata": {
    "scrolled": true
   },
   "outputs": [
    {
     "data": {
      "text/html": [
       "<div>\n",
       "<style scoped>\n",
       "    .dataframe tbody tr th:only-of-type {\n",
       "        vertical-align: middle;\n",
       "    }\n",
       "\n",
       "    .dataframe tbody tr th {\n",
       "        vertical-align: top;\n",
       "    }\n",
       "\n",
       "    .dataframe thead th {\n",
       "        text-align: right;\n",
       "    }\n",
       "</style>\n",
       "<table border=\"1\" class=\"dataframe\">\n",
       "  <thead>\n",
       "    <tr style=\"text-align: right;\">\n",
       "      <th></th>\n",
       "      <th>Observed Values</th>\n",
       "      <th>East</th>\n",
       "      <th>West</th>\n",
       "      <th>North</th>\n",
       "      <th>South</th>\n",
       "    </tr>\n",
       "  </thead>\n",
       "  <tbody>\n",
       "    <tr>\n",
       "      <th>0</th>\n",
       "      <td>Males</td>\n",
       "      <td>50</td>\n",
       "      <td>142</td>\n",
       "      <td>131</td>\n",
       "      <td>70</td>\n",
       "    </tr>\n",
       "    <tr>\n",
       "      <th>1</th>\n",
       "      <td>Females</td>\n",
       "      <td>435</td>\n",
       "      <td>1523</td>\n",
       "      <td>1356</td>\n",
       "      <td>750</td>\n",
       "    </tr>\n",
       "  </tbody>\n",
       "</table>\n",
       "</div>"
      ],
      "text/plain": [
       "  Observed Values  East  West  North  South\n",
       "0           Males    50   142    131     70\n",
       "1         Females   435  1523   1356    750"
      ]
     },
     "execution_count": 3,
     "metadata": {},
     "output_type": "execute_result"
    }
   ],
   "source": [
    "sales"
   ]
  },
  {
   "cell_type": "code",
   "execution_count": 4,
   "id": "a800875d",
   "metadata": {},
   "outputs": [],
   "source": [
    "# Ho = All proportions are equal\n",
    "# Ha = Not all Proportions are equal"
   ]
  },
  {
   "cell_type": "code",
   "execution_count": 5,
   "id": "3ea2341b",
   "metadata": {},
   "outputs": [
    {
     "data": {
      "text/html": [
       "<div>\n",
       "<style scoped>\n",
       "    .dataframe tbody tr th:only-of-type {\n",
       "        vertical-align: middle;\n",
       "    }\n",
       "\n",
       "    .dataframe tbody tr th {\n",
       "        vertical-align: top;\n",
       "    }\n",
       "\n",
       "    .dataframe thead th {\n",
       "        text-align: right;\n",
       "    }\n",
       "</style>\n",
       "<table border=\"1\" class=\"dataframe\">\n",
       "  <thead>\n",
       "    <tr style=\"text-align: right;\">\n",
       "      <th></th>\n",
       "      <th>East</th>\n",
       "      <th>West</th>\n",
       "      <th>North</th>\n",
       "      <th>South</th>\n",
       "    </tr>\n",
       "  </thead>\n",
       "  <tbody>\n",
       "    <tr>\n",
       "      <th>0</th>\n",
       "      <td>50</td>\n",
       "      <td>142</td>\n",
       "      <td>131</td>\n",
       "      <td>70</td>\n",
       "    </tr>\n",
       "    <tr>\n",
       "      <th>1</th>\n",
       "      <td>435</td>\n",
       "      <td>1523</td>\n",
       "      <td>1356</td>\n",
       "      <td>750</td>\n",
       "    </tr>\n",
       "  </tbody>\n",
       "</table>\n",
       "</div>"
      ],
      "text/plain": [
       "   East  West  North  South\n",
       "0    50   142    131     70\n",
       "1   435  1523   1356    750"
      ]
     },
     "execution_count": 5,
     "metadata": {},
     "output_type": "execute_result"
    }
   ],
   "source": [
    "sales_table=sales.iloc[:,1:6]\n",
    "sales_table"
   ]
  },
  {
   "cell_type": "code",
   "execution_count": 6,
   "id": "3cdd75e6",
   "metadata": {},
   "outputs": [
    {
     "data": {
      "text/plain": [
       "array([[  50,  142,  131,   70],\n",
       "       [ 435, 1523, 1356,  750]], dtype=int64)"
      ]
     },
     "execution_count": 6,
     "metadata": {},
     "output_type": "execute_result"
    }
   ],
   "source": [
    "sales_table.values"
   ]
  },
  {
   "cell_type": "code",
   "execution_count": 7,
   "id": "1f13339e",
   "metadata": {},
   "outputs": [],
   "source": [
    "values=stats.chi2_contingency(sales_table)"
   ]
  },
  {
   "cell_type": "code",
   "execution_count": 8,
   "id": "08ca4896",
   "metadata": {},
   "outputs": [
    {
     "data": {
      "text/plain": [
       "(1.595945538661058,\n",
       " 0.6603094907091882,\n",
       " 3,\n",
       " array([[  42.76531299,  146.81287862,  131.11756787,   72.30424052],\n",
       "        [ 442.23468701, 1518.18712138, 1355.88243213,  747.69575948]]))"
      ]
     },
     "execution_count": 8,
     "metadata": {},
     "output_type": "execute_result"
    }
   ],
   "source": [
    "values"
   ]
  },
  {
   "cell_type": "code",
   "execution_count": 9,
   "id": "e73c5cb6",
   "metadata": {},
   "outputs": [
    {
     "data": {
      "text/plain": [
       "tuple"
      ]
     },
     "execution_count": 9,
     "metadata": {},
     "output_type": "execute_result"
    }
   ],
   "source": [
    "type(values)"
   ]
  },
  {
   "cell_type": "code",
   "execution_count": 10,
   "id": "bd17c4dc",
   "metadata": {},
   "outputs": [
    {
     "name": "stdout",
     "output_type": "stream",
     "text": [
      "Degree of Freedom= 3\n"
     ]
    }
   ],
   "source": [
    "no_of_rows=len(sales_table.iloc[0:2,0])\n",
    "no_of_columns=len(sales_table.iloc[0,0:4])\n",
    "degree_of_f=(no_of_rows-1)*(no_of_columns-1)\n",
    "print('Degree of Freedom=',degree_of_f)"
   ]
  },
  {
   "cell_type": "code",
   "execution_count": 11,
   "id": "5a63151e",
   "metadata": {},
   "outputs": [],
   "source": [
    "Expected_value=values[3]"
   ]
  },
  {
   "cell_type": "code",
   "execution_count": 12,
   "id": "b229cade",
   "metadata": {},
   "outputs": [
    {
     "data": {
      "text/plain": [
       "array([[  42.76531299,  146.81287862,  131.11756787,   72.30424052],\n",
       "       [ 442.23468701, 1518.18712138, 1355.88243213,  747.69575948]])"
      ]
     },
     "execution_count": 12,
     "metadata": {},
     "output_type": "execute_result"
    }
   ],
   "source": [
    "Expected_value"
   ]
  },
  {
   "cell_type": "code",
   "execution_count": 13,
   "id": "23ab25da",
   "metadata": {},
   "outputs": [
    {
     "data": {
      "text/plain": [
       "1.5152956451130446"
      ]
     },
     "execution_count": 13,
     "metadata": {},
     "output_type": "execute_result"
    }
   ],
   "source": [
    "from scipy.stats import chi2\n",
    "chi_square=sum([(o-e)**2/e for o,e in zip(sales_table.values,Expected_value)])\n",
    "chi_square_statestic=chi_square[0]+chi_square[1]\n",
    "chi_square_statestic"
   ]
  },
  {
   "cell_type": "code",
   "execution_count": 14,
   "id": "b426444a",
   "metadata": {},
   "outputs": [
    {
     "data": {
      "text/plain": [
       "7.814727903251179"
      ]
     },
     "execution_count": 14,
     "metadata": {},
     "output_type": "execute_result"
    }
   ],
   "source": [
    "critical_value=chi2.ppf(0.95,3)\n",
    "critical_value"
   ]
  },
  {
   "cell_type": "code",
   "execution_count": 15,
   "id": "a4eb79de",
   "metadata": {},
   "outputs": [
    {
     "name": "stdout",
     "output_type": "stream",
     "text": [
      "Independent (accept Ha)\n"
     ]
    }
   ],
   "source": [
    "if chi_square_statestic >= critical_value:\n",
    "    print('Dependent (reject H0)')\n",
    "else:\n",
    "    print('Independent (accept Ha)')\n"
   ]
  },
  {
   "cell_type": "code",
   "execution_count": 16,
   "id": "878cf6d6",
   "metadata": {},
   "outputs": [
    {
     "data": {
      "text/plain": [
       "0.6787446296467897"
      ]
     },
     "execution_count": 16,
     "metadata": {},
     "output_type": "execute_result"
    }
   ],
   "source": [
    "pvalue=1-chi2.cdf(chi_square_statestic,3)\n",
    "pvalue"
   ]
  },
  {
   "cell_type": "code",
   "execution_count": 17,
   "id": "df24cdda",
   "metadata": {},
   "outputs": [
    {
     "name": "stdout",
     "output_type": "stream",
     "text": [
      "Independent (Accept Ha)\n"
     ]
    }
   ],
   "source": [
    "if pvalue <= 0.05:\n",
    "    print('Dependent (reject H0)')\n",
    "else:\n",
    "    print('Independent (Accept Ha)')\n"
   ]
  },
  {
   "cell_type": "code",
   "execution_count": 18,
   "id": "dd97d951",
   "metadata": {},
   "outputs": [],
   "source": [
    "# Ha = Not all propoertions are equal"
   ]
  },
  {
   "cell_type": "code",
   "execution_count": null,
   "id": "6d80880e",
   "metadata": {},
   "outputs": [],
   "source": []
  }
 ],
 "metadata": {
  "kernelspec": {
   "display_name": "Python 3 (ipykernel)",
   "language": "python",
   "name": "python3"
  },
  "language_info": {
   "codemirror_mode": {
    "name": "ipython",
    "version": 3
   },
   "file_extension": ".py",
   "mimetype": "text/x-python",
   "name": "python",
   "nbconvert_exporter": "python",
   "pygments_lexer": "ipython3",
   "version": "3.9.7"
  }
 },
 "nbformat": 4,
 "nbformat_minor": 5
}
